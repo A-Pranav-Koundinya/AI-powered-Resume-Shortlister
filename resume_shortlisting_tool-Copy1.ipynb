{
 "cells": [
  {
   "cell_type": "code",
   "execution_count": 5,
   "id": "cdb853fc-8b95-43a8-a867-be0279360160",
   "metadata": {},
   "outputs": [],
   "source": [
    "from docx import Document\n",
    "import os"
   ]
  },
  {
   "cell_type": "code",
   "execution_count": 6,
   "id": "0f5b5dc7-afb9-46ee-a303-40af9e0ac2ca",
   "metadata": {},
   "outputs": [],
   "source": [
    "def extract_text_from_docx(docx_path):\n",
    "    doc=Document(docx_path)\n",
    "    text=''\n",
    "    for para in doc.paragraphs:\n",
    "        text+=para.text+'\\n'\n",
    "    return text"
   ]
  },
  {
   "cell_type": "code",
   "execution_count": 7,
   "id": "31d3f7a3-f490-4e69-857e-005e947f8e4a",
   "metadata": {},
   "outputs": [],
   "source": [
    "resume_folder =r\"C:\\Users\\apkou\\Desktop\\A Pranav Koundinya\\DATASETS\\archive\\Resumes\"\n",
    "resume_texts={}\n",
    "for filename in os.listdir(resume_folder):\n",
    "    if filename.endswith(\".docx\"):\n",
    "        docx_path=os.path.join(resume_folder,filename)\n",
    "        resume_texts[filename]=extract_text_from_docx(docx_path)"
   ]
  },
  {
   "cell_type": "code",
   "execution_count": 8,
   "id": "44e8f1e9-7a53-469b-8a60-fa93aa95dc20",
   "metadata": {},
   "outputs": [
    {
     "name": "stdout",
     "output_type": "stream",
     "text": [
      "--- Resume:Abiral_Pandey_Fullstack_Java.docx ---\n",
      "Name: Abiral Pandey\n",
      "Email: abiral.pandey88@gmail.com\n",
      "Phone: 940-242-3303\n",
      "Current Location: Woonsocket, Rhode Island\n",
      "Visa Status: US Citizen\n",
      "\n",
      "SUMMARY:\n",
      "Dynamic individual with 6 years of software development experience in design, development, deployment, maintenance, production and support of web - based and Client-Server business applications using OOP and Java/J2EE technologies.\n",
      "Exposure to all phases of Software Development Life Cycle(SDLC) using Agile, RUP, Waterfall.\n",
      "Designed and developed we\n",
      "\n",
      "\n",
      "--- Resume:Achyuth Resume_8.docx ---\n",
      "Achyuth\n",
      "540-999-8048\n",
      "achyuth.java88@gmail.com\n",
      "\n",
      "OBJECTIVE:\n",
      "Around 8 years of strong software experience in design, development, analysis and deployment of web-based and Client-Server business applications using Object Oriented Analysis and Design (OOAD, OOPS) and Java/JEE/J2EE technologies in Financial, Insurance, and Health Sector Domain with Software Development Life Cycle (SDLC).\n",
      "\n",
      "PROFESSIONAL SUMMARY:\n",
      "Actively involved in each phase of Software Development Life cycle (SDLC).\n",
      "Expertise in clie\n",
      "\n",
      "\n",
      "--- Resume:Adelina_Erimia_PMP1.docx ---\n",
      "Adelina Erimia, PMP, Six Sigma Green Belt, SMC\n",
      "469-331-7851   erimia@msn.com\n",
      "\n",
      "\n",
      "PROJECT MANAGER\n",
      "\n",
      "Experienced project manager offering over 10 years of successful leading diverse projects in the IT, Construction and Insurance industries; PMP, Six Sigma Green Belt and Scrum Master certified.  Member of PMI Savannah Chapter Board of Directors.\n",
      "Business strategist; plan and manage projects aligning business goals with technology solutions to drive process improvements, competitive advantage and botto\n",
      "\n",
      "\n",
      "--- Resume:Adhi Gopalam - SM.docx ---\n",
      "Adhi Gopalam\n",
      "adhigopalam@gmail.com\n",
      "281-212-3592\n",
      "\n",
      "Certified Scrum Master and Business Analyst with over 12 years of experience in independently managing mid to large projects with experience in the Healthcare, Pharmaceutical (FDA Regulated), Banking and Retail industries \n",
      "Exceptional organizational, technical reporting, auditing/analysis and communication skills. \n",
      "Agile Project Management experience of the full project life cycle including requirements gathering, Scheduling and facilitating key a\n",
      "\n",
      "\n",
      "--- Resume:AjayKumar.docx ---\n",
      "Ajay Kumar (CSM)\t     \t\t     Email/Skype: ajaydt@gmail.com; Mob. +1 (847)899-4194\n",
      "PROFESSIONAL SUMMARY:\n",
      "14 Years IT experience as an Architect, Solutions, Scrum Master, Quality Assurance and Agile Practitioner (Agile Methodology - Healthcare) with SAFe (Scaled Agile Framework) including ETL Testing and Web Services, Selenium Automation engagement of Web application, Project management and technical team handling experience from 20+ associates. Extensive health care background with software imple\n",
      "\n",
      "\n"
     ]
    }
   ],
   "source": [
    "for filename,text in list(resume_texts.items())[:5]:\n",
    "    print(f\"--- Resume:{filename} ---\")\n",
    "    print(text[:500])\n",
    "    print(\"\\n\")"
   ]
  },
  {
   "cell_type": "code",
   "execution_count": 9,
   "id": "17676435-f7d0-452a-a320-bd79f71a470d",
   "metadata": {},
   "outputs": [],
   "source": [
    "import re\n",
    "from sklearn.feature_extraction.text import ENGLISH_STOP_WORDS"
   ]
  },
  {
   "cell_type": "code",
   "execution_count": 10,
   "id": "76b1896f-b9dc-4071-81fc-dbf4ad9f45fd",
   "metadata": {},
   "outputs": [],
   "source": [
    "def preprocess_text(text):\n",
    "    text=re.sub(r'[^A-Za-z\\s]','',text)\n",
    "    text=text.lower()\n",
    "    text=' '.join([word for word in text.split() if word not in ENGLISH_STOP_WORDS])\n",
    "    return text"
   ]
  },
  {
   "cell_type": "code",
   "execution_count": 11,
   "id": "7ba83101-eb2d-479a-8f6b-354df3c27126",
   "metadata": {},
   "outputs": [
    {
     "name": "stdout",
     "output_type": "stream",
     "text": [
      "---Processed Resume:Abiral_Pandey_Fullstack_Java.docx---\n",
      "abiral pandey email abiralpandeygmailcom phone current location woonsocket rhode island visa status citizen summary dynamic individual years software development experience design development deployment maintenance production support web based clientserver business applications using oop javajee technologies exposure phases software development life cyclesdlc using agile rup waterfall designed developed web ui screen using angularjs developed angularjs controllers services filters directives var\n",
      "\n",
      "\n",
      "---Processed Resume:Achyuth Resume_8.docx---\n",
      "achyuth achyuthjavagmailcom objective years strong software experience design development analysis deployment webbased clientserver business applications using object oriented analysis design ooad oops javajeejee technologies financial insurance health sector domain software development life cycle sdlc professional summary actively involved phase software development life cycle sdlc expertise client scripting language server scripting languages like html css javascript jquery ajax angularjs node\n",
      "\n",
      "\n",
      "---Processed Resume:Adelina_Erimia_PMP1.docx---\n",
      "adelina erimia pmp sigma green belt smc erimiamsncom project manager experienced project manager offering years successful leading diverse projects construction insurance industries pmp sigma green belt scrum master certified member pmi savannah chapter board directors business strategist plan manage projects aligning business goals technology solutions drive process improvements competitive advantage bottomline gains excellent communicator leverage business financial acumen communicate effectiv\n",
      "\n",
      "\n",
      "---Processed Resume:Adhi Gopalam - SM.docx---\n",
      "adhi gopalam adhigopalamgmailcom certified scrum master business analyst years experience independently managing mid large projects experience healthcare pharmaceutical fda regulated banking retail industries exceptional organizational technical reporting auditinganalysis communication skills agile project management experience project life cycle including requirements gathering scheduling facilitating key agile ceremonies velocity planning obtaining managing resources conducting daily standups \n",
      "\n",
      "\n",
      "---Processed Resume:AjayKumar.docx---\n",
      "ajay kumar csm emailskype ajaydtgmailcom mob professional summary years experience architect solutions scrum master quality assurance agile practitioner agile methodology healthcare safe scaled agile framework including etl testing web services selenium automation engagement web application project management technical team handling experience associates extensive health care background software implementation knowledge extensive background retail ecommerce point sale banking finance cards payme\n",
      "\n",
      "\n"
     ]
    }
   ],
   "source": [
    "preprocessed_resumes={filename:preprocess_text(text) for filename,text in resume_texts.items()}\n",
    "for filename,text in list(preprocessed_resumes.items())[:5]:\n",
    "    print(f\"---Processed Resume:{filename}---\")\n",
    "    print(text[:500])\n",
    "    print(\"\\n\")"
   ]
  },
  {
   "cell_type": "code",
   "execution_count": 12,
   "id": "c88f5335-71c8-4046-92f1-12496113d1fb",
   "metadata": {},
   "outputs": [],
   "source": [
    "from sklearn.feature_extraction.text import TfidfVectorizer"
   ]
  },
  {
   "cell_type": "code",
   "execution_count": 13,
   "id": "b1f76aa0-d9b7-458e-9e9c-17c368f329fe",
   "metadata": {},
   "outputs": [],
   "source": [
    "tfidf=TfidfVectorizer(max_features=5000)\n",
    "X_resumes=tfidf.fit_transform(preprocessed_resumes.values())"
   ]
  },
  {
   "cell_type": "code",
   "execution_count": 14,
   "id": "39b0eb9e-6757-4e71-a0ab-a7aae7105191",
   "metadata": {},
   "outputs": [
    {
     "name": "stdout",
     "output_type": "stream",
     "text": [
      "   abbvie  abilities   ability      able  absence  abstract  abstraction  \\\n",
      "0     0.0    0.00000  0.000000  0.000000      0.0       0.0          0.0   \n",
      "1     0.0    0.00000  0.000000  0.000000      0.0       0.0          0.0   \n",
      "2     0.0    0.00000  0.000000  0.032012      0.0       0.0          0.0   \n",
      "3     0.0    0.00000  0.025645  0.000000      0.0       0.0          0.0   \n",
      "4     0.0    0.01225  0.006218  0.000000      0.0       0.0          0.0   \n",
      "\n",
      "         ac  aca  academic  ...  yeoman     york   yr  yrs  yui  zend  zomato  \\\n",
      "0  0.000000  0.0       0.0  ...     0.0  0.00000  0.0  0.0  0.0   0.0     0.0   \n",
      "1  0.000000  0.0       0.0  ...     0.0  0.00000  0.0  0.0  0.0   0.0     0.0   \n",
      "2  0.000000  0.0       0.0  ...     0.0  0.00000  0.0  0.0  0.0   0.0     0.0   \n",
      "3  0.000000  0.0       0.0  ...     0.0  0.00000  0.0  0.0  0.0   0.0     0.0   \n",
      "4  0.015302  0.0       0.0  ...     0.0  0.00913  0.0  0.0  0.0   0.0     0.0   \n",
      "\n",
      "      zones  zookeeper  zuul  \n",
      "0  0.000000        0.0   0.0  \n",
      "1  0.000000        0.0   0.0  \n",
      "2  0.000000        0.0   0.0  \n",
      "3  0.030700        0.0   0.0  \n",
      "4  0.014886        0.0   0.0  \n",
      "\n",
      "[5 rows x 5000 columns]\n"
     ]
    }
   ],
   "source": [
    "import pandas as pd\n",
    "features_df=pd.DataFrame(X_resumes.toarray(),columns=tfidf.get_feature_names_out())\n",
    "print(features_df.head())"
   ]
  },
  {
   "cell_type": "code",
   "execution_count": 192,
   "id": "9795cd90-6659-4c62-bd3f-690631daedd1",
   "metadata": {},
   "outputs": [],
   "source": [
    "np.save(\"res_tfidf.npy\",features_df)"
   ]
  },
  {
   "cell_type": "code",
   "execution_count": 16,
   "id": "694cc92d-9117-4ba2-8a74-30e307429de9",
   "metadata": {},
   "outputs": [],
   "source": [
    "from sentence_transformers import SentenceTransformer"
   ]
  },
  {
   "cell_type": "code",
   "execution_count": 17,
   "id": "397b1ddb-09ad-4d52-bee7-301294d3c7ab",
   "metadata": {},
   "outputs": [
    {
     "name": "stdout",
     "output_type": "stream",
     "text": [
      "                                        0         1         2         3    \\\n",
      "Abiral_Pandey_Fullstack_Java.docx -0.143301  0.017869 -0.080122 -0.013082   \n",
      "Achyuth Resume_8.docx             -0.145714  0.040138 -0.068467 -0.007959   \n",
      "Adelina_Erimia_PMP1.docx          -0.067612 -0.014115 -0.013945  0.021013   \n",
      "Adhi Gopalam - SM.docx             0.017046  0.043795 -0.018089  0.021568   \n",
      "AjayKumar.docx                    -0.014758  0.043306 -0.071428 -0.010469   \n",
      "\n",
      "                                        4         5         6         7    \\\n",
      "Abiral_Pandey_Fullstack_Java.docx -0.017539 -0.051012  0.017637  0.021621   \n",
      "Achyuth Resume_8.docx              0.041752 -0.032795 -0.024080  0.064539   \n",
      "Adelina_Erimia_PMP1.docx          -0.009826 -0.014540  0.028896  0.044637   \n",
      "Adhi Gopalam - SM.docx            -0.000590 -0.011436  0.017332  0.051832   \n",
      "AjayKumar.docx                     0.036185  0.004800  0.010594  0.066011   \n",
      "\n",
      "                                        8         9    ...       374  \\\n",
      "Abiral_Pandey_Fullstack_Java.docx -0.043698 -0.004683  ...  0.027189   \n",
      "Achyuth Resume_8.docx              0.039265 -0.010125  ...  0.071441   \n",
      "Adelina_Erimia_PMP1.docx           0.000569  0.072484  ...  0.046628   \n",
      "Adhi Gopalam - SM.docx            -0.005716  0.033063  ... -0.002084   \n",
      "AjayKumar.docx                     0.001604 -0.050895  ...  0.081379   \n",
      "\n",
      "                                        375       376       377       378  \\\n",
      "Abiral_Pandey_Fullstack_Java.docx  0.043691  0.056787 -0.049591  0.112978   \n",
      "Achyuth Resume_8.docx              0.013610  0.026276 -0.140012  0.052617   \n",
      "Adelina_Erimia_PMP1.docx           0.051531  0.015964 -0.024516  0.009430   \n",
      "Adhi Gopalam - SM.docx             0.054823  0.037440 -0.037476  0.003747   \n",
      "AjayKumar.docx                     0.041268  0.017781 -0.084312  0.051449   \n",
      "\n",
      "                                        379       380       381       382  \\\n",
      "Abiral_Pandey_Fullstack_Java.docx  0.097129 -0.004010 -0.028803 -0.001251   \n",
      "Achyuth Resume_8.docx              0.086952  0.046268 -0.029992  0.006650   \n",
      "Adelina_Erimia_PMP1.docx           0.015056  0.007209 -0.115458 -0.115993   \n",
      "Adhi Gopalam - SM.docx             0.040563  0.029987 -0.040779 -0.113682   \n",
      "AjayKumar.docx                     0.088068  0.023598 -0.068385 -0.026049   \n",
      "\n",
      "                                        383  \n",
      "Abiral_Pandey_Fullstack_Java.docx  0.002430  \n",
      "Achyuth Resume_8.docx             -0.020612  \n",
      "Adelina_Erimia_PMP1.docx           0.003159  \n",
      "Adhi Gopalam - SM.docx             0.020476  \n",
      "AjayKumar.docx                     0.027623  \n",
      "\n",
      "[5 rows x 384 columns]\n"
     ]
    }
   ],
   "source": [
    "model=SentenceTransformer('all-MiniLM-L6-v2')\n",
    "resume_embeddings={filename:model.encode(text) for filename,text in resume_texts.items()}\n",
    "embedding_df=pd.DataFrame.from_dict(resume_embeddings,orient='index')\n",
    "print(embedding_df.head())"
   ]
  },
  {
   "cell_type": "code",
   "execution_count": 18,
   "id": "664d9082-5c28-4e7e-8758-5123658c177d",
   "metadata": {},
   "outputs": [],
   "source": [
    "embedding_df.to_csv(\"resumeSBERT.csv\", index=False)"
   ]
  },
  {
   "cell_type": "code",
   "execution_count": 19,
   "id": "eb1fc59c-6034-4e6f-bacb-8a846f97a4cd",
   "metadata": {},
   "outputs": [
    {
     "name": "stdout",
     "output_type": "stream",
     "text": [
      "224\n"
     ]
    }
   ],
   "source": [
    "print(embedding_df.shape[0])"
   ]
  },
  {
   "cell_type": "code",
   "execution_count": 148,
   "id": "fcf2aa6b-9d18-4daa-99c3-2d72aa42496a",
   "metadata": {},
   "outputs": [
    {
     "name": "stdout",
     "output_type": "stream",
     "text": [
      "   Unnamed: 0             Job Title  \\\n",
      "0           0     Flutter Developer   \n",
      "1           1      Django Developer   \n",
      "2           2      Machine Learning   \n",
      "3           3         iOS Developer   \n",
      "4           4  Full Stack Developer   \n",
      "\n",
      "                                     Job Description  \n",
      "0  We are looking for hire experts flutter develo...  \n",
      "1  PYTHON/DJANGO (Developer/Lead) - Job Code(PDJ ...  \n",
      "2  Data Scientist (Contractor)\\n\\nBangalore, IN\\n...  \n",
      "3  JOB DESCRIPTION:\\n\\nStrong framework outside o...  \n",
      "4  job responsibility full stack engineer – react...  \n",
      "columns in dataset: Index(['Unnamed: 0', 'Job Title', 'Job Description'], dtype='object')\n"
     ]
    }
   ],
   "source": [
    "jd_df=pd.read_csv(\"job_title_des.csv\")\n",
    "print(jd_df.head())\n",
    "print(\"columns in dataset:\",jd_df.columns)\n",
    "if 'Job Description' not in jd_df.columns:\n",
    "    raise ValueError(\"The dataset doesn't contain a column named 'job_description'.\")"
   ]
  },
  {
   "cell_type": "code",
   "execution_count": 172,
   "id": "8d6172be-1de6-4d96-9580-8ce01ac42d3c",
   "metadata": {},
   "outputs": [],
   "source": [
    "import re\n",
    "from nltk.corpus import stopwords\n",
    "from nltk.tokenize import word_tokenize\n",
    "from nltk.stem import WordNetLemmatizer"
   ]
  },
  {
   "cell_type": "code",
   "execution_count": 174,
   "id": "a11e3f6c-5fb4-4221-aa54-ea7aa7986ae4",
   "metadata": {},
   "outputs": [],
   "source": [
    "stop_words=set(stopwords.words('english'))\n",
    "lemmatizer=WordNetLemmatizer()\n",
    "def clean_text(text):\n",
    "    text=text.lower()\n",
    "    text=re.sub(r'[^a-z\\s]','',text)\n",
    "    text=re.sub(r'\\s+',' ',text).strip()\n",
    "    words=word_tokenize(text)\n",
    "    words=[word for word in words if word not in stop_words]\n",
    "    words=[lemmatizer.lemmatize(word) for word in words]\n",
    "    return ' '.join(words)"
   ]
  },
  {
   "cell_type": "code",
   "execution_count": 176,
   "id": "77c51d56-34cf-41ca-af5b-5cfb7122dad8",
   "metadata": {},
   "outputs": [],
   "source": [
    "jd_df['cleaned_jd']=jd_df['Job Description'].apply(clean_text)"
   ]
  },
  {
   "cell_type": "code",
   "execution_count": 178,
   "id": "85355641-2486-4af1-ab8e-e8617dad436a",
   "metadata": {},
   "outputs": [
    {
     "name": "stdout",
     "output_type": "stream",
     "text": [
      "Cleaned job description sample: 0    looking hire expert flutter developer eligible...\n",
      "1    pythondjango developerlead job codepdj strong ...\n",
      "2    data scientist contractor bangalore responsibi...\n",
      "3    job description strong framework outside io al...\n",
      "4    job responsibility full stack engineer react r...\n",
      "Name: cleaned_jd, dtype: object\n"
     ]
    }
   ],
   "source": [
    "print(\"Cleaned job description sample:\",jd_df['cleaned_jd'].head())"
   ]
  },
  {
   "cell_type": "code",
   "execution_count": 180,
   "id": "47314aad-9d3b-41a6-8dbd-8a7aedd05361",
   "metadata": {},
   "outputs": [],
   "source": [
    "jd_df.to_csv(\"jd.csv\",index=False)"
   ]
  },
  {
   "cell_type": "code",
   "execution_count": 182,
   "id": "90816091-d966-4852-bcbf-e639ce8089da",
   "metadata": {},
   "outputs": [],
   "source": [
    "import numpy as np"
   ]
  },
  {
   "cell_type": "code",
   "execution_count": 184,
   "id": "c20175dc-d254-4c01-9a52-56d24b2fb64e",
   "metadata": {},
   "outputs": [],
   "source": [
    "if 'cleaned_jd' not in jd_df.columns:\n",
    "    raise ValueError(\"the dataset doesn't contain a column named 'cleaned_jd'. \")"
   ]
  },
  {
   "cell_type": "code",
   "execution_count": 202,
   "id": "b22bc7ac-0bfe-4e9c-84ff-5bd25bcea043",
   "metadata": {},
   "outputs": [
    {
     "name": "stdout",
     "output_type": "stream",
     "text": [
      "shape: (2277, 5000)\n"
     ]
    }
   ],
   "source": [
    "tfidf_vectorizer=TfidfVectorizer(max_features=5000)\n",
    "tfidf_embeddings=tfidf_vectorizer.fit_transform(jd_df['cleaned_jd']).toarray()\n",
    "print(\"shape:\",tfidf_embeddings.shape)"
   ]
  },
  {
   "cell_type": "code",
   "execution_count": 204,
   "id": "7bf29efa-f0aa-4f00-9c3d-27527f6f2044",
   "metadata": {},
   "outputs": [],
   "source": [
    "np.save(\"jd_tfidf.npy\",tfidf_embeddings)"
   ]
  },
  {
   "cell_type": "code",
   "execution_count": 206,
   "id": "03695313-c45f-440c-86b7-9bf0a80b790b",
   "metadata": {},
   "outputs": [],
   "source": [
    "resume_embeddings=np.load(\"res_tfidf.npy\")\n",
    "jd_embeddings=np.load(\"jd_tfidf.npy\")\n",
    "num=10\n",
    "np.random.seed(42)"
   ]
  },
  {
   "cell_type": "code",
   "execution_count": 208,
   "id": "0ddb434d-542f-41c9-9c0c-4cb290d0bed2",
   "metadata": {},
   "outputs": [],
   "source": [
    "pairs=[]\n",
    "labels=[]\n",
    "for resume_idx, resume_emb in enumerate(resume_embeddings):\n",
    "    sampled_jd_indices=np.random.choice(len(jd_embeddings),num,replace=False)\n",
    "    for jd_idx in sampled_jd_indices:\n",
    "        pairs.append((resume_emb,jd_embeddings[jd_idx]))\n",
    "        labels.append(np.random.choice([0,1]))"
   ]
  },
  {
   "cell_type": "code",
   "execution_count": 210,
   "id": "7b1d2d3c-2244-43c1-8827-b744b2a9f9e1",
   "metadata": {},
   "outputs": [
    {
     "name": "stdout",
     "output_type": "stream",
     "text": [
      "Generated 2240 pairs.\n",
      "First pair shape: Resume - (5000,), Job Description - (5000,)\n"
     ]
    }
   ],
   "source": [
    "pairs=np.array(pairs,dtype=object)\n",
    "labels=np.array(labels)\n",
    "print(f\"Generated {len(pairs)} pairs.\")\n",
    "print(f\"First pair shape: Resume - {pairs[0][0].shape}, Job Description - {pairs[0][1].shape}\")"
   ]
  },
  {
   "cell_type": "code",
   "execution_count": 212,
   "id": "c4d6265f-6286-4530-a88a-fff9a31f2654",
   "metadata": {},
   "outputs": [],
   "source": [
    "from sklearn.metrics.pairwise import cosine_similarity"
   ]
  },
  {
   "cell_type": "code",
   "execution_count": 214,
   "id": "18b67376-69de-4178-927c-c060ddc41253",
   "metadata": {},
   "outputs": [
    {
     "name": "stdout",
     "output_type": "stream",
     "text": [
      "Computed 2240 similarity scores.\n"
     ]
    }
   ],
   "source": [
    "similarity_scores = []\n",
    "for pair in pairs:\n",
    "    resume_emb, jd_emb = pair    \n",
    "    similarity = cosine_similarity(resume_emb.reshape(1, -1), jd_emb.reshape(1, -1))[0][0]\n",
    "    similarity_scores.append(similarity)\n",
    "similarity_scores = np.array(similarity_scores)\n",
    "print(f\"Computed {len(similarity_scores)} similarity scores.\")"
   ]
  },
  {
   "cell_type": "code",
   "execution_count": 216,
   "id": "db65bcf1-11ab-4f04-999f-93d669f78995",
   "metadata": {},
   "outputs": [],
   "source": [
    "from sklearn.model_selection import train_test_split"
   ]
  },
  {
   "cell_type": "code",
   "execution_count": 220,
   "id": "1f3038aa-2c1d-449c-b63e-eab1a0780b84",
   "metadata": {},
   "outputs": [
    {
     "name": "stdout",
     "output_type": "stream",
     "text": [
      "Training data: 1568 pairs\n",
      "Test data: 672 pairs\n"
     ]
    }
   ],
   "source": [
    "labels=np.array(labels)\n",
    "X_train,X_test,y_train,y_test=train_test_split(similarity_scores,labels,test_size=0.3,random_state=42)\n",
    "print(f\"Training data: {len(X_train)} pairs\")\n",
    "print(f\"Test data: {len(X_test)} pairs\")"
   ]
  },
  {
   "cell_type": "code",
   "execution_count": 224,
   "id": "1d3eeadc-46e5-4d32-aca1-d4d413ec193d",
   "metadata": {},
   "outputs": [
    {
     "name": "stdout",
     "output_type": "stream",
     "text": [
      "Accuracy: 0.5432\n",
      "Confusion Matrix:\n",
      "[[159 174]\n",
      " [133 206]]\n",
      "Classification Report:\n",
      "              precision    recall  f1-score   support\n",
      "\n",
      "           0       0.54      0.48      0.51       333\n",
      "           1       0.54      0.61      0.57       339\n",
      "\n",
      "    accuracy                           0.54       672\n",
      "   macro avg       0.54      0.54      0.54       672\n",
      "weighted avg       0.54      0.54      0.54       672\n",
      "\n"
     ]
    }
   ],
   "source": [
    "from sklearn.linear_model import LogisticRegression\n",
    "from sklearn.metrics import accuracy_score, confusion_matrix, classification_report\n",
    "model = LogisticRegression(class_weight='balanced')\n",
    "model.fit(X_train.reshape(-1, 1), y_train)\n",
    "y_pred = model.predict(X_test.reshape(-1, 1))\n",
    "accuracy = accuracy_score(y_test, y_pred)\n",
    "conf_matrix = confusion_matrix(y_test, y_pred)\n",
    "class_report = classification_report(y_test, y_pred)\n",
    "print(f\"Accuracy: {accuracy:.4f}\")\n",
    "print(f\"Confusion Matrix:\\n{conf_matrix}\")\n",
    "print(f\"Classification Report:\\n{class_report}\")"
   ]
  },
  {
   "cell_type": "code",
   "execution_count": 12,
   "id": "7cf793a4-de6f-4e66-adb3-678533dc29a5",
   "metadata": {},
   "outputs": [
    {
     "name": "stdout",
     "output_type": "stream",
     "text": [
      "Reduced job descriptions dataset saved with 13 job descriptions.\n"
     ]
    }
   ],
   "source": [
    "#optimized approach\n",
    "import pandas as pd\n",
    "from sklearn.feature_extraction.text import TfidfVectorizer\n",
    "from sklearn.cluster import KMeans\n",
    "import numpy as np\n",
    "\n",
    "job_descriptions_df = pd.read_csv('job_title_des.csv')  \n",
    "job_descriptions = job_descriptions_df['Job Description'].values\n",
    "\n",
    "vectorizer = TfidfVectorizer(stop_words='english', max_features=5000)  \n",
    "X = vectorizer.fit_transform(job_descriptions)\n",
    "\n",
    "n_clusters = 13\n",
    "kmeans = KMeans(n_clusters=n_clusters, random_state=42)\n",
    "job_descriptions_df['Cluster'] = kmeans.fit_predict(X)\n",
    "\n",
    "representative_job_descriptions = []\n",
    "for i in range(n_clusters):\n",
    "    cluster_indices = job_descriptions_df[job_descriptions_df['Cluster'] == i].index\n",
    "    distances = np.linalg.norm(X[cluster_indices] - kmeans.cluster_centers_[i], axis=1)\n",
    "    representative_index = cluster_indices[np.argmin(distances)]\n",
    "    representative_job_descriptions.append(job_descriptions_df.loc[representative_index])\n",
    "    \n",
    "reduced_job_descriptions_df = pd.DataFrame(representative_job_descriptions, columns=['Job Title', 'Job Description'])\n",
    "reduced_job_descriptions_df.to_csv('reduced_job_descriptions.csv', index=False)\n",
    "\n",
    "print(f\"Reduced job descriptions dataset saved with {len(reduced_job_descriptions_df)} job descriptions.\")\n"
   ]
  },
  {
   "cell_type": "code",
   "execution_count": 16,
   "id": "7cfa5149-d30b-4f3e-9cc7-a2919d272102",
   "metadata": {},
   "outputs": [
    {
     "data": {
      "image/png": "[encoded data removed]",
      "text/plain": [
       "<Figure size 1200x600 with 2 Axes>"
      ]
     },
     "metadata": {},
     "output_type": "display_data"
    },
    {
     "name": "stdout",
     "output_type": "stream",
     "text": [
      "Best Silhouette Score: 0.03154822375653299 for 13 clusters\n"
     ]
    }
   ],
   "source": [
    "import matplotlib.pyplot as plt\n",
    "from sklearn.cluster import KMeans\n",
    "from sklearn.metrics import silhouette_score\n",
    "\n",
    "# Assuming jd_embeddings is your job descriptions embeddings array\n",
    "# Number of clusters to try\n",
    "cluster_range = range(2, 31)  # Trying between 2 to 30 clusters\n",
    "\n",
    "# Initialize lists to store results\n",
    "silhouette_scores = []\n",
    "inertia_values = []\n",
    "\n",
    "# Try clustering for each number of clusters\n",
    "for n_clusters in cluster_range:\n",
    "    kmeans = KMeans(n_clusters=n_clusters, random_state=42)\n",
    "    kmeans.fit(X)  # Fit KMeans to job description embeddings\n",
    "    \n",
    "    # Calculate the silhouette score\n",
    "    silhouette_avg = silhouette_score(X, kmeans.labels_)\n",
    "    silhouette_scores.append(silhouette_avg)\n",
    "    \n",
    "    # Store inertia (sum of squared distances)\n",
    "    inertia_values.append(kmeans.inertia_)\n",
    "\n",
    "# Plot the Silhouette Scores\n",
    "plt.figure(figsize=(12, 6))\n",
    "\n",
    "plt.subplot(1, 2, 1)\n",
    "plt.plot(cluster_range, silhouette_scores, marker='o')\n",
    "plt.title('Silhouette Score vs Number of Clusters')\n",
    "plt.xlabel('Number of Clusters')\n",
    "plt.ylabel('Silhouette Score')\n",
    "\n",
    "# Plot the Elbow Method (Inertia vs Number of Clusters)\n",
    "plt.subplot(1, 2, 2)\n",
    "plt.plot(cluster_range, inertia_values, marker='o')\n",
    "plt.title('Elbow Method (Inertia) vs Number of Clusters')\n",
    "plt.xlabel('Number of Clusters')\n",
    "plt.ylabel('Inertia')\n",
    "\n",
    "plt.tight_layout()\n",
    "plt.show()\n",
    "\n",
    "# Print the best silhouette score and the corresponding number of clusters\n",
    "best_silhouette_score = max(silhouette_scores)\n",
    "best_silhouette_n_clusters = cluster_range[silhouette_scores.index(best_silhouette_score)]\n",
    "\n",
    "print(f\"Best Silhouette Score: {best_silhouette_score} for {best_silhouette_n_clusters} clusters\")\n"
   ]
  },
  {
   "cell_type": "code",
   "execution_count": 48,
   "id": "64df0bde-2ce2-40e0-864a-d36daebd1b75",
   "metadata": {},
   "outputs": [
    {
     "name": "stdout",
     "output_type": "stream",
     "text": [
      "Dataset with resume names, JD names, and labels saved as 'resume_jd_pairs.csv'.\n"
     ]
    }
   ],
   "source": [
    "import numpy as np\n",
    "import pandas as pd\n",
    "from sklearn.metrics.pairwise import cosine_similarity\n",
    "\n",
    "# Assuming you have the following:\n",
    "# - resume_embeddings: 228 resumes with their embeddings (shape: (228, embedding_dim))\n",
    "# - jd_clustered_embeddings: 13 job descriptions (after clustering) (shape: (13, embedding_dim))\n",
    "\n",
    "n_resumes = 228\n",
    "n_jds = 13\n",
    "embedding_dim = 5000\n",
    "\n",
    "# Assuming these are your resume embeddings and clustered JD embeddings\n",
    "resume_embeddings = np.random.rand(n_resumes, embedding_dim)  # Replace with your actual resume embeddings\n",
    "jd_clustered_embeddings = np.random.rand(n_jds, embedding_dim)  # Replace with your actual clustered JD embeddings\n",
    "\n",
    "# Generate resume and JD names\n",
    "resume_names = [f\"Resume_{i+1}\" for i in range(n_resumes)]\n",
    "jd_names = [f\"JD_{i+1}\" for i in range(n_jds)]\n",
    "\n",
    "pairs = []\n",
    "labels = []\n",
    "\n",
    "similarity_threshold = 0.7525\n",
    "\n",
    "for resume_idx, resume_emb in enumerate(resume_embeddings):\n",
    "    for jd_idx, jd_emb in enumerate(jd_clustered_embeddings):\n",
    "        # Get resume and JD names\n",
    "        resume_name = resume_names[resume_idx]\n",
    "        jd_name = jd_names[jd_idx]\n",
    "        \n",
    "        # Calculate cosine similarity\n",
    "        similarity = cosine_similarity(resume_emb.reshape(1, -1), jd_emb.reshape(1, -1))[0][0]\n",
    "        \n",
    "        # Assign label based on similarity threshold\n",
    "        label = 1 if similarity >= similarity_threshold else 0\n",
    "        \n",
    "        # Append the pair and label\n",
    "        pairs.append((resume_name, jd_name, similarity))\n",
    "        labels.append(label)\n",
    "\n",
    "pairs_df = pd.DataFrame(pairs, columns=[\"resume_name\", \"jd_name\", \"similarity\"])\n",
    "pairs_df[\"label\"] = labels\n",
    "\n",
    "pairs_df = pairs_df[[\"resume_name\", \"jd_name\",\"similarity\", \"label\"]]\n",
    "pairs_df.to_csv(\"resume_jd_pairs.csv\", index=False)\n",
    "\n",
    "print(\"Dataset with resume names, JD names, and labels saved as 'resume_jd_pairs.csv'.\")\n"
   ]
  },
  {
   "cell_type": "code",
   "execution_count": 32,
   "id": "5b69cdc8-db1e-47ee-9da1-2beb6e231cfe",
   "metadata": {},
   "outputs": [
    {
     "data": {
      "image/png": "[encoded data removed]",
      "text/plain": [
       "<Figure size 640x480 with 1 Axes>"
      ]
     },
     "metadata": {},
     "output_type": "display_data"
    },
    {
     "name": "stdout",
     "output_type": "stream",
     "text": [
      "Min similarity: 0.7352921591588799\n",
      "Max similarity: 0.7667199444278487\n",
      "Mean similarity: 0.7500571896466377\n"
     ]
    }
   ],
   "source": [
    "import matplotlib.pyplot as plt\n",
    "\n",
    "# Calculate cosine similarity for all pairs\n",
    "similarities = [cosine_similarity(resume_emb.reshape(1, -1), jd_emb.reshape(1, -1))[0][0] \n",
    "                for resume_emb in resume_embeddings \n",
    "                for jd_emb in jd_clustered_embeddings]\n",
    "\n",
    "# Plot the distribution of cosine similarity values\n",
    "plt.hist(similarities, bins=20, edgecolor='black')\n",
    "plt.title('Cosine Similarity Distribution')\n",
    "plt.xlabel('Cosine Similarity')\n",
    "plt.ylabel('Frequency')\n",
    "plt.show()\n",
    "\n",
    "# Print summary statistics\n",
    "print(f\"Min similarity: {min(similarities)}\")\n",
    "print(f\"Max similarity: {max(similarities)}\")\n",
    "print(f\"Mean similarity: {np.mean(similarities)}\")\n"
   ]
  },
  {
   "cell_type": "code",
   "execution_count": 58,
   "id": "b71a9a7f-18b6-41d5-a53e-f77b8fdbd144",
   "metadata": {},
   "outputs": [
    {
     "name": "stdout",
     "output_type": "stream",
     "text": [
      "Accuracy: 0.9921348314606742\n",
      "Classification Report:\n",
      "              precision    recall  f1-score   support\n",
      "\n",
      "           0       0.99      1.00      0.99       646\n",
      "           1       1.00      0.97      0.99       244\n",
      "\n",
      "    accuracy                           0.99       890\n",
      "   macro avg       0.99      0.99      0.99       890\n",
      "weighted avg       0.99      0.99      0.99       890\n",
      "\n"
     ]
    }
   ],
   "source": [
    "from sklearn.model_selection import train_test_split\n",
    "from sklearn.linear_model import LogisticRegression\n",
    "from sklearn.metrics import accuracy_score, classification_report\n",
    "from sklearn.preprocessing import StandardScaler\n",
    "\n",
    "# Step 1: Prepare the final dataset\n",
    "# Assuming `fused_df` is the DataFrame containing resume_name, jd_name, similarity, and label (0 or 1)\n",
    "fused_df=pd.read_csv(\"resume_jd_pairs.csv\")\n",
    "X = fused_df[['similarity']]  # or any other embeddings/features you use\n",
    "y = fused_df['label']  # Labels: 0 or 1\n",
    "\n",
    "# Step 2: Split the data into training and testing sets\n",
    "X_train, X_test, y_train, y_test = train_test_split(X, y, test_size=0.3, random_state=42)\n",
    "\n",
    "# Step 3: Feature Scaling (if necessary)\n",
    "scaler = StandardScaler()\n",
    "X_train_scaled = scaler.fit_transform(X_train)\n",
    "X_test_scaled = scaler.transform(X_test)\n",
    "\n",
    "# Step 4: Model Training (Logistic Regression as a starting point)\n",
    "model = LogisticRegression(random_state=42)\n",
    "model.fit(X_train_scaled, y_train)\n",
    "\n",
    "# Step 5: Make Predictions\n",
    "y_pred = model.predict(X_test_scaled)\n",
    "\n",
    "# Step 6: Evaluate the model\n",
    "accuracy = accuracy_score(y_test, y_pred)\n",
    "classification_rep = classification_report(y_test, y_pred)\n",
    "\n",
    "# Output evaluation metrics\n",
    "print(f\"Accuracy: {accuracy}\")\n",
    "print(f\"Classification Report:\\n{classification_rep}\")\n"
   ]
  },
  {
   "cell_type": "code",
   "execution_count": null,
   "id": "0f8b9eee-9a99-48cd-9ea9-eb6a4d5cbe7f",
   "metadata": {},
   "outputs": [],
   "source": []
  }
 ],
 "metadata": {
  "kernelspec": {
   "display_name": "Python (degraded_numpy)",
   "language": "python",
   "name": "degraded_numpy"
  },
  "language_info": {
   "codemirror_mode": {
    "name": "ipython",
    "version": 3
   },
   "file_extension": ".py",
   "mimetype": "text/x-python",
   "name": "python",
   "nbconvert_exporter": "python",
   "pygments_lexer": "ipython3",
   "version": "3.9.20"
  }
 },
 "nbformat": 4,
 "nbformat_minor": 5
}
